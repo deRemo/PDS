{
 "cells": [
  {
   "cell_type": "code",
   "execution_count": 43,
   "metadata": {},
   "outputs": [],
   "source": [
    "import numpy as np\n",
    "import matplotlib.pyplot as plt"
   ]
  },
  {
   "cell_type": "code",
   "execution_count": 44,
   "metadata": {},
   "outputs": [],
   "source": [
    "#utility functions\n",
    "\n",
    "#find \"best\" local opt and its position\n",
    "def best_local_opt(particles):\n",
    "    p = min(particles, key=lambda p : p.local_opt)\n",
    "    return p.local_opt, p.l_x, p.l_y\n",
    "\n",
    "#return random number [0,1)\n",
    "def r(low=0.0, high=1.0):\n",
    "    return np.random.uniform(low, high, size=1)"
   ]
  },
  {
   "cell_type": "code",
   "execution_count": 136,
   "metadata": {},
   "outputs": [],
   "source": [
    "class particle:\n",
    "    def __init__(self, objective_f, lower_bound, upper_bound):\n",
    "        #position\n",
    "        self.x = r(lower_bound, upper_bound)\n",
    "        self.y = r(lower_bound, upper_bound)\n",
    "        \n",
    "        #velocity\n",
    "        self.v_x = r(-abs(upper_bound - lower_bound), abs(upper_bound - lower_bound)) #wiki\n",
    "        self.v_y = r(-abs(upper_bound - lower_bound), abs(upper_bound - lower_bound))\n",
    "        \n",
    "        #local optimum\n",
    "        self.local_opt = objective_f(self.x, self.y)\n",
    "        self.l_x = self.x\n",
    "        self.l_y = self.y"
   ]
  },
  {
   "cell_type": "code",
   "execution_count": 170,
   "metadata": {},
   "outputs": [],
   "source": [
    "def swarm_particle_optimization(n, a, b, c, objective_f, it, lower_bound, upper_bound):\n",
    "    g = [] #all global bests\n",
    "    \n",
    "    #init step\n",
    "    particles = np.array([particle(objective_f, lower_bound, upper_bound) for _ in range(n)]) #swarm of particles\n",
    "    global_opt, g_x, g_y = best_local_opt(particles) # best global optimum and position\n",
    "    \n",
    "    #iterative step\n",
    "    for i in range(it):\n",
    "        g.append(global_opt)\n",
    "        for p in particles:\n",
    "            #update velocity\n",
    "            p.v_x = (a * p.v_x) + (b * r() * (p.l_x - p.x)) + (c * r() * (g_x - p.x))\n",
    "            p.v_y = (a * p.v_y) + (b * r() * (p.l_y - p.y)) + (c * r() * (g_y - p.y))\n",
    "\n",
    "            #update position\n",
    "            p.x = p.x + p.v_x\n",
    "            p.y = p.y + p.v_y\n",
    "\n",
    "            #evaluate local opt\n",
    "            e = objective_f(p.x, p.y)\n",
    "            if e < p.local_opt:\n",
    "                p.local_opt = e\n",
    "                p.l_x = p.x\n",
    "                p.l_y = p.y\n",
    "                \n",
    "                #evaluate global opt\n",
    "                if e < global_opt:\n",
    "                    global_opt = e\n",
    "                    g_x = p.l_x\n",
    "                    g_y = p.l_y\n",
    "    return g, g_x, g_y"
   ]
  },
  {
   "cell_type": "code",
   "execution_count": 172,
   "metadata": {},
   "outputs": [
    {
     "name": "stdout",
     "output_type": "stream",
     "text": [
      "[1.] [1.00564275e-06] [-3.9884781e-07]\n"
     ]
    },
    {
     "data": {
      "image/png": "[encoded data removed]",
      "text/plain": [
       "<Figure size 432x288 with 1 Axes>"
      ]
     },
     "metadata": {
      "needs_background": "light"
     },
     "output_type": "display_data"
    }
   ],
   "source": [
    "n = 25\n",
    "a = 0.5\n",
    "b = 0.8\n",
    "c = 0.9\n",
    "\n",
    "it = 40\n",
    "\n",
    "lower_bound = -10\n",
    "upper_bound = 10\n",
    "\n",
    "f = (lambda x,y: x**2 + y**2 + 1) # abs(x + y): min at 0, only if y = -x\n",
    "\n",
    "g, g_x, g_y = swarm_particle_optimization(n, a, b, c, f, it, lower_bound, upper_bound)\n",
    "\n",
    "x = np.arange(len(g))\n",
    "#plt.xticks(np.arange(0, len(x)+1, 1))\n",
    "plt.plot(x, g)\n",
    "plt.title(\"global opts for it=\"+str(it)+\" and swarm=\"+str(n))\n",
    "print(g[-1], g_x, g_y)"
   ]
  },
  {
   "cell_type": "code",
   "execution_count": null,
   "metadata": {},
   "outputs": [],
   "source": []
  }
 ],
 "metadata": {
  "kernelspec": {
   "display_name": "Python 3",
   "language": "python",
   "name": "python3"
  },
  "language_info": {
   "codemirror_mode": {
    "name": "ipython",
    "version": 3
   },
   "file_extension": ".py",
   "mimetype": "text/x-python",
   "name": "python",
   "nbconvert_exporter": "python",
   "pygments_lexer": "ipython3",
   "version": "3.7.3"
  }
 },
 "nbformat": 4,
 "nbformat_minor": 4
}
